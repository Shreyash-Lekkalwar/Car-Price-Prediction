{
 "cells": [
  {
   "cell_type": "markdown",
   "id": "feff9952",
   "metadata": {},
   "source": [
    "## 1. Problem Background\n",
    "<img src='https://www.mcrsafety.com/~/media/mcrsafety/industry/categories/automotive/automotive_herou.png?h=550&iar=0&mw=1900&w=1300&hash=D88BC48B9CAF819617593F71E0E88EE2 '/>\n",
    "<Title>*What is the problem we are trying to solve?</Title>\n",
    "<br>Leverage data from consumers, vehicles, factories, and beyond to maximize quality, increase customer satisfaction, and improve brand loyalty.</br>\n",
    "<Title>*Who might be interested in this problem and why?</Title>\n",
    "<br>-Insurance companies for example, it is important to have access to data about the vehicle, such as mileage, and driver skills, such as acceleration, cornering and braking, to determine the insurance rates.</br>\n",
    "<br>-Car Companies can analyze their existing customers to identify characteristics that predict a purchase. Big data can also help car companies use insights like past vehicle purchases, online behavior, and demographics to create personalized marketing communications and share relevant content.</br>\n",
    "<body><br>*Parameters/Features to monitor which might impact.</br>\n",
    "<br>-Make</br>\n",
    "<br>-Model</br>\n",
    "<br>-Year</br>\n",
    "<br>-Engine Fuel Type</br>\n",
    "<br>-Engine HP</br>\n",
    "<br>-Engine Cylinders</br>\n",
    "<br>-Transmission Type</br>\n",
    "<br>-Driven_Wheels</br>\n",
    "<br>-Number of Doors</br>\n",
    "<br>-Market Category</br>\n",
    "<br>-Vehicle Size</br>\n",
    "<br>-Vehicle Style</br>\n",
    "<br>-Highway MPG</br>\n",
    "<br>-City mpg</br>\n",
    "<br>-Popularity</br>\n",
    "<br>-MSRP</br></body>\n",
    "\n",
    "\n",
    "\n"
   ]
  },
  {
   "cell_type": "markdown",
   "id": "5372864c",
   "metadata": {},
   "source": [
    "\n",
    "<title>Brief outline of tasks ahead</title>\n",
    "<br>1. Import Package</br>\n",
    "<br>2. Connect to Data Source and Data Extraction</br>\n",
    "<br>3. Data Exploration, Data Transformation</br>\n",
    "<br>4. Machine Learning Model</br>\n",
    "<br>5. Deployment of Model</br>\n"
   ]
  },
  {
   "cell_type": "markdown",
   "id": "e632ed1d",
   "metadata": {},
   "source": [
    "# Data Prep\n",
    "\n",
    "- [ ] Initial Evaluation\n",
    "- [ ] Initial Cleanup - dupes, missing values\n",
    "- [ ] Distributions/ranges\n",
    "- [ ] Outlier Detection & Treatment\n",
    "- [ ] Feature Transformations\n",
    "- [ ] Feature Selection\n",
    "- [ ] Final Prep before ML - Train/Test Splitting"
   ]
  },
  {
   "cell_type": "markdown",
   "id": "952d20f7",
   "metadata": {},
   "source": [
    "## 2. Import Package \n",
    "<br>\n",
    "\n",
    "### Libraries<br>\n",
    "\n",
    ">**Numpy and Pandas:**<br>\n",
    "We use it to import the data files which has multi-dimensional arrays and matrices and for data manipulations  <br>\n",
    "\n",
    ">**SKLearn:**<br>\n",
    "Sklearn provides multiple machine learning and statistical models to which can best describe the pattern in the data. It also provides metrics toevaluate the performance of the model    <br>\n",
    "\n",
    ">**Pickle:**<br>\n",
    "Pickle library converts a Python object into a byte stream to store it in a file/database, maintain program state across sessions, or transport data over the network. Thus making it accessible and  easier to work with in deployment\n",
    "\n",
    ">**Matplotlib, Seaboen, Plotly and Cufflink:**<br>\n",
    "These libraries are used for data visualization"
   ]
  },
  {
   "cell_type": "code",
   "execution_count": 1,
   "id": "5553eb56",
   "metadata": {},
   "outputs": [
    {
     "data": {
      "text/html": [
       "        <script type=\"text/javascript\">\n",
       "        window.PlotlyConfig = {MathJaxConfig: 'local'};\n",
       "        if (window.MathJax) {MathJax.Hub.Config({SVG: {font: \"STIX-Web\"}});}\n",
       "        if (typeof require !== 'undefined') {\n",
       "        require.undef(\"plotly\");\n",
       "        requirejs.config({\n",
       "            paths: {\n",
       "                'plotly': ['https://cdn.plot.ly/plotly-2.9.0.min']\n",
       "            }\n",
       "        });\n",
       "        require(['plotly'], function(Plotly) {\n",
       "            window._Plotly = Plotly;\n",
       "        });\n",
       "        }\n",
       "        </script>\n",
       "        "
      ]
     },
     "metadata": {},
     "output_type": "display_data"
    }
   ],
   "source": [
    "# data manipulation libraries\n",
    "import numpy as np\n",
    "import pandas as pd\n",
    "\n",
    "# machine learning model libraries\n",
    "from sklearn.linear_model import LogisticRegression\n",
    "from sklearn.metrics import accuracy_score\n",
    "\n",
    "# orchestration of python object\n",
    "import pickle\n",
    "\n",
    "# visualization libraries\n",
    "import seaborn as sns\n",
    "from matplotlib import pyplot as plt\n",
    "from plotly.offline import download_plotlyjs, init_notebook_mode, plot, iplot\n",
    "#import cufflinks as cf\n",
    "\n",
    "# to show graphs in the notebook\n",
    "%matplotlib inline\n",
    "\n",
    "# set theme of the graphs\n",
    "sns.set_theme(style='whitegrid',palette='RdBu_r')\n",
    "\n",
    "# For Notebooks\n",
    "init_notebook_mode(connected=True)\n",
    "\n",
    "# For offline use\n",
    "#cf.go_offline()"
   ]
  },
  {
   "cell_type": "code",
   "execution_count": 2,
   "id": "ac426ca9",
   "metadata": {},
   "outputs": [],
   "source": [
    "import pandas as pd\n",
    "pd.set_option('display.max_columns', None)\n",
    "pd.options.display.float_format= '{:.2f}'.format# converting scientific values to normal numbers \n",
    "import numpy as np\n",
    "import math\n",
    "\n",
    "# Graphics\n",
    "import seaborn as sns\n",
    "import matplotlib.pyplot as plt\n",
    "import plotly.graph_objects as go\n",
    "\n",
    "# ML\n",
    "from sklearn.model_selection import train_test_split\n",
    "from sklearn.linear_model import LinearRegression\n",
    "from sklearn.metrics import mean_absolute_percentage_error, mean_absolute_error, r2_score, mean_squared_error\n",
    "\n",
    "import statsmodels.api as sm"
   ]
  },
  {
   "cell_type": "markdown",
   "id": "321d5ec0",
   "metadata": {},
   "source": [
    "## 3. Connect to Data Source and Data Extraction <a class=\"anchor\" id=\"data-extraction\"></a>\n",
    "1. The below cells connects the notebook to different sources (eg. DWH, Flat files etc) and creates a source dataframe. Later, we will be using the source dataframe to analyze the data, feature selection and for running machine learning model.\n",
    "\n",
    "2. Optimize the data extraction to reduce the extraction time and load on the data source. For example:\n",
    "    2.1 Create incremental loop\n",
    "    2.2 Load selected columns\n",
    "    2.3 Load the data in batches\n",
    "\n",
    "3. If there are multiple tables, concat, merge or join operation will be used in the data manipulation section to create a summarized version for Machine learning model\n",
    "\n"
   ]
  },
  {
   "cell_type": "code",
   "execution_count": 3,
   "id": "2a96e13c",
   "metadata": {},
   "outputs": [
    {
     "data": {
      "text/html": [
       "<div>\n",
       "<style scoped>\n",
       "    .dataframe tbody tr th:only-of-type {\n",
       "        vertical-align: middle;\n",
       "    }\n",
       "\n",
       "    .dataframe tbody tr th {\n",
       "        vertical-align: top;\n",
       "    }\n",
       "\n",
       "    .dataframe thead th {\n",
       "        text-align: right;\n",
       "    }\n",
       "</style>\n",
       "<table border=\"1\" class=\"dataframe\">\n",
       "  <thead>\n",
       "    <tr style=\"text-align: right;\">\n",
       "      <th></th>\n",
       "      <th>Make</th>\n",
       "      <th>Model</th>\n",
       "      <th>Year</th>\n",
       "      <th>Engine Fuel Type</th>\n",
       "      <th>Engine HP</th>\n",
       "      <th>Engine Cylinders</th>\n",
       "      <th>Transmission Type</th>\n",
       "      <th>Driven_Wheels</th>\n",
       "      <th>Number of Doors</th>\n",
       "      <th>Market Category</th>\n",
       "      <th>Vehicle Size</th>\n",
       "      <th>Vehicle Style</th>\n",
       "      <th>highway MPG</th>\n",
       "      <th>city mpg</th>\n",
       "      <th>Popularity</th>\n",
       "      <th>MSRP</th>\n",
       "    </tr>\n",
       "  </thead>\n",
       "  <tbody>\n",
       "    <tr>\n",
       "      <th>11904</th>\n",
       "      <td>BMW</td>\n",
       "      <td>Z8</td>\n",
       "      <td>2002</td>\n",
       "      <td>premium unleaded (required)</td>\n",
       "      <td>394.00</td>\n",
       "      <td>8.00</td>\n",
       "      <td>MANUAL</td>\n",
       "      <td>rear wheel drive</td>\n",
       "      <td>2.00</td>\n",
       "      <td>Exotic,Luxury,High-Performance</td>\n",
       "      <td>Compact</td>\n",
       "      <td>Convertible</td>\n",
       "      <td>19</td>\n",
       "      <td>12</td>\n",
       "      <td>3916</td>\n",
       "      <td>130000</td>\n",
       "    </tr>\n",
       "    <tr>\n",
       "      <th>11905</th>\n",
       "      <td>BMW</td>\n",
       "      <td>Z8</td>\n",
       "      <td>2003</td>\n",
       "      <td>premium unleaded (required)</td>\n",
       "      <td>394.00</td>\n",
       "      <td>8.00</td>\n",
       "      <td>MANUAL</td>\n",
       "      <td>rear wheel drive</td>\n",
       "      <td>2.00</td>\n",
       "      <td>Exotic,Luxury,High-Performance</td>\n",
       "      <td>Compact</td>\n",
       "      <td>Convertible</td>\n",
       "      <td>19</td>\n",
       "      <td>12</td>\n",
       "      <td>3916</td>\n",
       "      <td>131500</td>\n",
       "    </tr>\n",
       "    <tr>\n",
       "      <th>11906</th>\n",
       "      <td>Acura</td>\n",
       "      <td>ZDX</td>\n",
       "      <td>2011</td>\n",
       "      <td>premium unleaded (required)</td>\n",
       "      <td>300.00</td>\n",
       "      <td>6.00</td>\n",
       "      <td>AUTOMATIC</td>\n",
       "      <td>all wheel drive</td>\n",
       "      <td>4.00</td>\n",
       "      <td>Crossover,Hatchback,Luxury</td>\n",
       "      <td>Midsize</td>\n",
       "      <td>4dr Hatchback</td>\n",
       "      <td>23</td>\n",
       "      <td>16</td>\n",
       "      <td>204</td>\n",
       "      <td>46020</td>\n",
       "    </tr>\n",
       "    <tr>\n",
       "      <th>11907</th>\n",
       "      <td>Acura</td>\n",
       "      <td>ZDX</td>\n",
       "      <td>2011</td>\n",
       "      <td>premium unleaded (required)</td>\n",
       "      <td>300.00</td>\n",
       "      <td>6.00</td>\n",
       "      <td>AUTOMATIC</td>\n",
       "      <td>all wheel drive</td>\n",
       "      <td>4.00</td>\n",
       "      <td>Crossover,Hatchback,Luxury</td>\n",
       "      <td>Midsize</td>\n",
       "      <td>4dr Hatchback</td>\n",
       "      <td>23</td>\n",
       "      <td>16</td>\n",
       "      <td>204</td>\n",
       "      <td>56570</td>\n",
       "    </tr>\n",
       "    <tr>\n",
       "      <th>11908</th>\n",
       "      <td>Acura</td>\n",
       "      <td>ZDX</td>\n",
       "      <td>2011</td>\n",
       "      <td>premium unleaded (required)</td>\n",
       "      <td>300.00</td>\n",
       "      <td>6.00</td>\n",
       "      <td>AUTOMATIC</td>\n",
       "      <td>all wheel drive</td>\n",
       "      <td>4.00</td>\n",
       "      <td>Crossover,Hatchback,Luxury</td>\n",
       "      <td>Midsize</td>\n",
       "      <td>4dr Hatchback</td>\n",
       "      <td>23</td>\n",
       "      <td>16</td>\n",
       "      <td>204</td>\n",
       "      <td>50520</td>\n",
       "    </tr>\n",
       "    <tr>\n",
       "      <th>11909</th>\n",
       "      <td>Acura</td>\n",
       "      <td>ZDX</td>\n",
       "      <td>2012</td>\n",
       "      <td>premium unleaded (required)</td>\n",
       "      <td>300.00</td>\n",
       "      <td>6.00</td>\n",
       "      <td>AUTOMATIC</td>\n",
       "      <td>all wheel drive</td>\n",
       "      <td>4.00</td>\n",
       "      <td>Crossover,Hatchback,Luxury</td>\n",
       "      <td>Midsize</td>\n",
       "      <td>4dr Hatchback</td>\n",
       "      <td>23</td>\n",
       "      <td>16</td>\n",
       "      <td>204</td>\n",
       "      <td>46120</td>\n",
       "    </tr>\n",
       "    <tr>\n",
       "      <th>11910</th>\n",
       "      <td>Acura</td>\n",
       "      <td>ZDX</td>\n",
       "      <td>2012</td>\n",
       "      <td>premium unleaded (required)</td>\n",
       "      <td>300.00</td>\n",
       "      <td>6.00</td>\n",
       "      <td>AUTOMATIC</td>\n",
       "      <td>all wheel drive</td>\n",
       "      <td>4.00</td>\n",
       "      <td>Crossover,Hatchback,Luxury</td>\n",
       "      <td>Midsize</td>\n",
       "      <td>4dr Hatchback</td>\n",
       "      <td>23</td>\n",
       "      <td>16</td>\n",
       "      <td>204</td>\n",
       "      <td>56670</td>\n",
       "    </tr>\n",
       "    <tr>\n",
       "      <th>11911</th>\n",
       "      <td>Acura</td>\n",
       "      <td>ZDX</td>\n",
       "      <td>2012</td>\n",
       "      <td>premium unleaded (required)</td>\n",
       "      <td>300.00</td>\n",
       "      <td>6.00</td>\n",
       "      <td>AUTOMATIC</td>\n",
       "      <td>all wheel drive</td>\n",
       "      <td>4.00</td>\n",
       "      <td>Crossover,Hatchback,Luxury</td>\n",
       "      <td>Midsize</td>\n",
       "      <td>4dr Hatchback</td>\n",
       "      <td>23</td>\n",
       "      <td>16</td>\n",
       "      <td>204</td>\n",
       "      <td>50620</td>\n",
       "    </tr>\n",
       "    <tr>\n",
       "      <th>11912</th>\n",
       "      <td>Acura</td>\n",
       "      <td>ZDX</td>\n",
       "      <td>2013</td>\n",
       "      <td>premium unleaded (recommended)</td>\n",
       "      <td>300.00</td>\n",
       "      <td>6.00</td>\n",
       "      <td>AUTOMATIC</td>\n",
       "      <td>all wheel drive</td>\n",
       "      <td>4.00</td>\n",
       "      <td>Crossover,Hatchback,Luxury</td>\n",
       "      <td>Midsize</td>\n",
       "      <td>4dr Hatchback</td>\n",
       "      <td>23</td>\n",
       "      <td>16</td>\n",
       "      <td>204</td>\n",
       "      <td>50920</td>\n",
       "    </tr>\n",
       "    <tr>\n",
       "      <th>11913</th>\n",
       "      <td>Lincoln</td>\n",
       "      <td>Zephyr</td>\n",
       "      <td>2006</td>\n",
       "      <td>regular unleaded</td>\n",
       "      <td>221.00</td>\n",
       "      <td>6.00</td>\n",
       "      <td>AUTOMATIC</td>\n",
       "      <td>front wheel drive</td>\n",
       "      <td>4.00</td>\n",
       "      <td>Luxury</td>\n",
       "      <td>Midsize</td>\n",
       "      <td>Sedan</td>\n",
       "      <td>26</td>\n",
       "      <td>17</td>\n",
       "      <td>61</td>\n",
       "      <td>28995</td>\n",
       "    </tr>\n",
       "  </tbody>\n",
       "</table>\n",
       "</div>"
      ],
      "text/plain": [
       "          Make   Model  Year                Engine Fuel Type  Engine HP  \\\n",
       "11904      BMW      Z8  2002     premium unleaded (required)     394.00   \n",
       "11905      BMW      Z8  2003     premium unleaded (required)     394.00   \n",
       "11906    Acura     ZDX  2011     premium unleaded (required)     300.00   \n",
       "11907    Acura     ZDX  2011     premium unleaded (required)     300.00   \n",
       "11908    Acura     ZDX  2011     premium unleaded (required)     300.00   \n",
       "11909    Acura     ZDX  2012     premium unleaded (required)     300.00   \n",
       "11910    Acura     ZDX  2012     premium unleaded (required)     300.00   \n",
       "11911    Acura     ZDX  2012     premium unleaded (required)     300.00   \n",
       "11912    Acura     ZDX  2013  premium unleaded (recommended)     300.00   \n",
       "11913  Lincoln  Zephyr  2006                regular unleaded     221.00   \n",
       "\n",
       "       Engine Cylinders Transmission Type      Driven_Wheels  Number of Doors  \\\n",
       "11904              8.00            MANUAL   rear wheel drive             2.00   \n",
       "11905              8.00            MANUAL   rear wheel drive             2.00   \n",
       "11906              6.00         AUTOMATIC    all wheel drive             4.00   \n",
       "11907              6.00         AUTOMATIC    all wheel drive             4.00   \n",
       "11908              6.00         AUTOMATIC    all wheel drive             4.00   \n",
       "11909              6.00         AUTOMATIC    all wheel drive             4.00   \n",
       "11910              6.00         AUTOMATIC    all wheel drive             4.00   \n",
       "11911              6.00         AUTOMATIC    all wheel drive             4.00   \n",
       "11912              6.00         AUTOMATIC    all wheel drive             4.00   \n",
       "11913              6.00         AUTOMATIC  front wheel drive             4.00   \n",
       "\n",
       "                      Market Category Vehicle Size  Vehicle Style  \\\n",
       "11904  Exotic,Luxury,High-Performance      Compact    Convertible   \n",
       "11905  Exotic,Luxury,High-Performance      Compact    Convertible   \n",
       "11906      Crossover,Hatchback,Luxury      Midsize  4dr Hatchback   \n",
       "11907      Crossover,Hatchback,Luxury      Midsize  4dr Hatchback   \n",
       "11908      Crossover,Hatchback,Luxury      Midsize  4dr Hatchback   \n",
       "11909      Crossover,Hatchback,Luxury      Midsize  4dr Hatchback   \n",
       "11910      Crossover,Hatchback,Luxury      Midsize  4dr Hatchback   \n",
       "11911      Crossover,Hatchback,Luxury      Midsize  4dr Hatchback   \n",
       "11912      Crossover,Hatchback,Luxury      Midsize  4dr Hatchback   \n",
       "11913                          Luxury      Midsize          Sedan   \n",
       "\n",
       "       highway MPG  city mpg  Popularity    MSRP  \n",
       "11904           19        12        3916  130000  \n",
       "11905           19        12        3916  131500  \n",
       "11906           23        16         204   46020  \n",
       "11907           23        16         204   56570  \n",
       "11908           23        16         204   50520  \n",
       "11909           23        16         204   46120  \n",
       "11910           23        16         204   56670  \n",
       "11911           23        16         204   50620  \n",
       "11912           23        16         204   50920  \n",
       "11913           26        17          61   28995  "
      ]
     },
     "execution_count": 3,
     "metadata": {},
     "output_type": "execute_result"
    }
   ],
   "source": [
    "df = pd.read_csv('data.csv')## read csv file from the source location and load it into a dataframe and preview it\n",
    "df.tail(10)"
   ]
  },
  {
   "cell_type": "markdown",
   "id": "1d1191dd",
   "metadata": {},
   "source": [
    ">**Observations:**<br>\n",
    ">>**11915 Records**<br><br>\n",
    ">>**Target:** Our target variable is 'Price'<br>\n",
    "<br>Feature                  Thoughts and expectations</br>\n",
    "**Make:                    Should affect price+</BR>\n",
    "**Model:                   Should Affect price, better model price should be higher</BR>\n",
    "**Year:                    - relation</BR>\n",
    "**Engine Fuel Type:        cheaper fuel, price higher eg, diesel cars</BR>\n",
    "**Engine HP:               + relation</BR>\n",
    "**Engine Cylinders:         + relation</BR>\n",
    "**Transmission Type:        neutral</BR>\n",
    "**Driven_Wheels:        neutral</BR>\n",
    "**Number of DoorR:         neutral</BR>\n",
    "**Market Category:          dempgraphic</BR>\n",
    "**Vehicle Size:             + relation</BR>\n",
    "**Vehicle Style:            neutal</BR>\n",
    "**highway MPG:              - related as higher milage the cost is low and low mileage the cost is high, high horse power engine</BR>\n",
    "</BR>city mpg -                - related as higher milage the cost is low and low mileage the cost is high, high horse power engine</BR>\n",
    "*Popularity:              - popular model should be cheaper</BR>\n",
    "\n"
   ]
  },
  {
   "cell_type": "code",
   "execution_count": 4,
   "id": "16a6109c",
   "metadata": {},
   "outputs": [
    {
     "data": {
      "text/plain": [
       "Index(['Make', 'Model', 'Year', 'Engine Fuel Type', 'Engine HP',\n",
       "       'Engine Cylinders', 'Transmission Type', 'Driven_Wheels',\n",
       "       'Number of Doors', 'Market Category', 'Vehicle Size', 'Vehicle Style',\n",
       "       'highway MPG', 'city mpg', 'Popularity', 'MSRP'],\n",
       "      dtype='object')"
      ]
     },
     "execution_count": 4,
     "metadata": {},
     "output_type": "execute_result"
    }
   ],
   "source": [
    "# check column names of the data set\n",
    "df.columns"
   ]
  },
  {
   "cell_type": "markdown",
   "id": "401d4cab",
   "metadata": {},
   "source": [
    "### 3.1 Rename Columns (If Required)\n",
    "Rename the columns to user friendly names\n",
    "\n",
    "eg. When we connect to SAP database, the column names are not user friendly as column names follows SAP convention. Thus change the column names, so that it is easier to interpret the columns"
   ]
  },
  {
   "cell_type": "markdown",
   "id": "be5f6c4b",
   "metadata": {},
   "source": [
    "## 4. Data Exploration, Data Transformation <a class=\"anchor\" id=\"data-transformation\"></a>\n",
    "Analyze the data for:\n",
    "1. Check data type of each column\n",
    "2. Fix the issue of Missing data\n",
    "3. Outlier detection and removal\n",
    "4. Create visualization to understand the relationship between target variable and input variable\n",
    "5. Create calculated dimensions\n",
    "6. Create numerical columns for Categorical values and feature selection\n"
   ]
  },
  {
   "cell_type": "code",
   "execution_count": 5,
   "id": "3eef3a05",
   "metadata": {},
   "outputs": [
    {
     "name": "stdout",
     "output_type": "stream",
     "text": [
      "<class 'pandas.core.frame.DataFrame'>\n",
      "RangeIndex: 11914 entries, 0 to 11913\n",
      "Data columns (total 16 columns):\n",
      " #   Column             Non-Null Count  Dtype  \n",
      "---  ------             --------------  -----  \n",
      " 0   Make               11914 non-null  object \n",
      " 1   Model              11914 non-null  object \n",
      " 2   Year               11914 non-null  int64  \n",
      " 3   Engine Fuel Type   11911 non-null  object \n",
      " 4   Engine HP          11845 non-null  float64\n",
      " 5   Engine Cylinders   11884 non-null  float64\n",
      " 6   Transmission Type  11914 non-null  object \n",
      " 7   Driven_Wheels      11914 non-null  object \n",
      " 8   Number of Doors    11908 non-null  float64\n",
      " 9   Market Category    8172 non-null   object \n",
      " 10  Vehicle Size       11914 non-null  object \n",
      " 11  Vehicle Style      11914 non-null  object \n",
      " 12  highway MPG        11914 non-null  int64  \n",
      " 13  city mpg           11914 non-null  int64  \n",
      " 14  Popularity         11914 non-null  int64  \n",
      " 15  MSRP               11914 non-null  int64  \n",
      "dtypes: float64(3), int64(5), object(8)\n",
      "memory usage: 1.5+ MB\n"
     ]
    }
   ],
   "source": [
    "# 4.1 check number of rows with non null values and data type of each column\n",
    "df.info()\n"
   ]
  },
  {
   "cell_type": "code",
   "execution_count": 6,
   "id": "09ed19ce",
   "metadata": {},
   "outputs": [
    {
     "data": {
      "text/html": [
       "<div>\n",
       "<style scoped>\n",
       "    .dataframe tbody tr th:only-of-type {\n",
       "        vertical-align: middle;\n",
       "    }\n",
       "\n",
       "    .dataframe tbody tr th {\n",
       "        vertical-align: top;\n",
       "    }\n",
       "\n",
       "    .dataframe thead th {\n",
       "        text-align: right;\n",
       "    }\n",
       "</style>\n",
       "<table border=\"1\" class=\"dataframe\">\n",
       "  <thead>\n",
       "    <tr style=\"text-align: right;\">\n",
       "      <th></th>\n",
       "      <th>Make</th>\n",
       "      <th>Model</th>\n",
       "      <th>Year</th>\n",
       "      <th>Engine Fuel Type</th>\n",
       "      <th>Engine HP</th>\n",
       "      <th>Engine Cylinders</th>\n",
       "      <th>Transmission Type</th>\n",
       "      <th>Driven_Wheels</th>\n",
       "      <th>Number of Doors</th>\n",
       "      <th>Market Category</th>\n",
       "      <th>Vehicle Size</th>\n",
       "      <th>Vehicle Style</th>\n",
       "      <th>highway MPG</th>\n",
       "      <th>city mpg</th>\n",
       "      <th>Popularity</th>\n",
       "      <th>MSRP</th>\n",
       "    </tr>\n",
       "  </thead>\n",
       "  <tbody>\n",
       "    <tr>\n",
       "      <th>87</th>\n",
       "      <td>Nissan</td>\n",
       "      <td>200SX</td>\n",
       "      <td>1996</td>\n",
       "      <td>regular unleaded</td>\n",
       "      <td>115.00</td>\n",
       "      <td>4.00</td>\n",
       "      <td>MANUAL</td>\n",
       "      <td>front wheel drive</td>\n",
       "      <td>2.00</td>\n",
       "      <td>NaN</td>\n",
       "      <td>Compact</td>\n",
       "      <td>Coupe</td>\n",
       "      <td>36</td>\n",
       "      <td>26</td>\n",
       "      <td>2009</td>\n",
       "      <td>2000</td>\n",
       "    </tr>\n",
       "    <tr>\n",
       "      <th>88</th>\n",
       "      <td>Nissan</td>\n",
       "      <td>200SX</td>\n",
       "      <td>1996</td>\n",
       "      <td>regular unleaded</td>\n",
       "      <td>115.00</td>\n",
       "      <td>4.00</td>\n",
       "      <td>MANUAL</td>\n",
       "      <td>front wheel drive</td>\n",
       "      <td>2.00</td>\n",
       "      <td>NaN</td>\n",
       "      <td>Compact</td>\n",
       "      <td>Coupe</td>\n",
       "      <td>36</td>\n",
       "      <td>26</td>\n",
       "      <td>2009</td>\n",
       "      <td>2000</td>\n",
       "    </tr>\n",
       "    <tr>\n",
       "      <th>91</th>\n",
       "      <td>Nissan</td>\n",
       "      <td>200SX</td>\n",
       "      <td>1997</td>\n",
       "      <td>regular unleaded</td>\n",
       "      <td>115.00</td>\n",
       "      <td>4.00</td>\n",
       "      <td>MANUAL</td>\n",
       "      <td>front wheel drive</td>\n",
       "      <td>2.00</td>\n",
       "      <td>NaN</td>\n",
       "      <td>Compact</td>\n",
       "      <td>Coupe</td>\n",
       "      <td>35</td>\n",
       "      <td>25</td>\n",
       "      <td>2009</td>\n",
       "      <td>2000</td>\n",
       "    </tr>\n",
       "    <tr>\n",
       "      <th>92</th>\n",
       "      <td>Nissan</td>\n",
       "      <td>200SX</td>\n",
       "      <td>1997</td>\n",
       "      <td>regular unleaded</td>\n",
       "      <td>115.00</td>\n",
       "      <td>4.00</td>\n",
       "      <td>MANUAL</td>\n",
       "      <td>front wheel drive</td>\n",
       "      <td>2.00</td>\n",
       "      <td>NaN</td>\n",
       "      <td>Compact</td>\n",
       "      <td>Coupe</td>\n",
       "      <td>35</td>\n",
       "      <td>25</td>\n",
       "      <td>2009</td>\n",
       "      <td>2000</td>\n",
       "    </tr>\n",
       "    <tr>\n",
       "      <th>93</th>\n",
       "      <td>Nissan</td>\n",
       "      <td>200SX</td>\n",
       "      <td>1998</td>\n",
       "      <td>regular unleaded</td>\n",
       "      <td>115.00</td>\n",
       "      <td>4.00</td>\n",
       "      <td>MANUAL</td>\n",
       "      <td>front wheel drive</td>\n",
       "      <td>2.00</td>\n",
       "      <td>NaN</td>\n",
       "      <td>Compact</td>\n",
       "      <td>Coupe</td>\n",
       "      <td>35</td>\n",
       "      <td>25</td>\n",
       "      <td>2009</td>\n",
       "      <td>2000</td>\n",
       "    </tr>\n",
       "    <tr>\n",
       "      <th>...</th>\n",
       "      <td>...</td>\n",
       "      <td>...</td>\n",
       "      <td>...</td>\n",
       "      <td>...</td>\n",
       "      <td>...</td>\n",
       "      <td>...</td>\n",
       "      <td>...</td>\n",
       "      <td>...</td>\n",
       "      <td>...</td>\n",
       "      <td>...</td>\n",
       "      <td>...</td>\n",
       "      <td>...</td>\n",
       "      <td>...</td>\n",
       "      <td>...</td>\n",
       "      <td>...</td>\n",
       "      <td>...</td>\n",
       "    </tr>\n",
       "    <tr>\n",
       "      <th>11794</th>\n",
       "      <td>Subaru</td>\n",
       "      <td>XT</td>\n",
       "      <td>1991</td>\n",
       "      <td>regular unleaded</td>\n",
       "      <td>145.00</td>\n",
       "      <td>6.00</td>\n",
       "      <td>MANUAL</td>\n",
       "      <td>all wheel drive</td>\n",
       "      <td>2.00</td>\n",
       "      <td>NaN</td>\n",
       "      <td>Compact</td>\n",
       "      <td>Coupe</td>\n",
       "      <td>23</td>\n",
       "      <td>16</td>\n",
       "      <td>640</td>\n",
       "      <td>2000</td>\n",
       "    </tr>\n",
       "    <tr>\n",
       "      <th>11809</th>\n",
       "      <td>Toyota</td>\n",
       "      <td>Yaris iA</td>\n",
       "      <td>2017</td>\n",
       "      <td>regular unleaded</td>\n",
       "      <td>106.00</td>\n",
       "      <td>4.00</td>\n",
       "      <td>MANUAL</td>\n",
       "      <td>front wheel drive</td>\n",
       "      <td>4.00</td>\n",
       "      <td>NaN</td>\n",
       "      <td>Compact</td>\n",
       "      <td>Sedan</td>\n",
       "      <td>39</td>\n",
       "      <td>30</td>\n",
       "      <td>2031</td>\n",
       "      <td>15950</td>\n",
       "    </tr>\n",
       "    <tr>\n",
       "      <th>11810</th>\n",
       "      <td>Toyota</td>\n",
       "      <td>Yaris iA</td>\n",
       "      <td>2017</td>\n",
       "      <td>regular unleaded</td>\n",
       "      <td>106.00</td>\n",
       "      <td>4.00</td>\n",
       "      <td>AUTOMATIC</td>\n",
       "      <td>front wheel drive</td>\n",
       "      <td>4.00</td>\n",
       "      <td>NaN</td>\n",
       "      <td>Compact</td>\n",
       "      <td>Sedan</td>\n",
       "      <td>40</td>\n",
       "      <td>32</td>\n",
       "      <td>2031</td>\n",
       "      <td>17050</td>\n",
       "    </tr>\n",
       "    <tr>\n",
       "      <th>11867</th>\n",
       "      <td>GMC</td>\n",
       "      <td>Yukon</td>\n",
       "      <td>2015</td>\n",
       "      <td>premium unleaded (recommended)</td>\n",
       "      <td>420.00</td>\n",
       "      <td>8.00</td>\n",
       "      <td>AUTOMATIC</td>\n",
       "      <td>rear wheel drive</td>\n",
       "      <td>4.00</td>\n",
       "      <td>NaN</td>\n",
       "      <td>Large</td>\n",
       "      <td>4dr SUV</td>\n",
       "      <td>21</td>\n",
       "      <td>15</td>\n",
       "      <td>549</td>\n",
       "      <td>64520</td>\n",
       "    </tr>\n",
       "    <tr>\n",
       "      <th>11868</th>\n",
       "      <td>GMC</td>\n",
       "      <td>Yukon</td>\n",
       "      <td>2015</td>\n",
       "      <td>premium unleaded (recommended)</td>\n",
       "      <td>420.00</td>\n",
       "      <td>8.00</td>\n",
       "      <td>AUTOMATIC</td>\n",
       "      <td>four wheel drive</td>\n",
       "      <td>4.00</td>\n",
       "      <td>NaN</td>\n",
       "      <td>Large</td>\n",
       "      <td>4dr SUV</td>\n",
       "      <td>21</td>\n",
       "      <td>14</td>\n",
       "      <td>549</td>\n",
       "      <td>67520</td>\n",
       "    </tr>\n",
       "  </tbody>\n",
       "</table>\n",
       "<p>3742 rows × 16 columns</p>\n",
       "</div>"
      ],
      "text/plain": [
       "         Make     Model  Year                Engine Fuel Type  Engine HP  \\\n",
       "87     Nissan     200SX  1996                regular unleaded     115.00   \n",
       "88     Nissan     200SX  1996                regular unleaded     115.00   \n",
       "91     Nissan     200SX  1997                regular unleaded     115.00   \n",
       "92     Nissan     200SX  1997                regular unleaded     115.00   \n",
       "93     Nissan     200SX  1998                regular unleaded     115.00   \n",
       "...       ...       ...   ...                             ...        ...   \n",
       "11794  Subaru        XT  1991                regular unleaded     145.00   \n",
       "11809  Toyota  Yaris iA  2017                regular unleaded     106.00   \n",
       "11810  Toyota  Yaris iA  2017                regular unleaded     106.00   \n",
       "11867     GMC     Yukon  2015  premium unleaded (recommended)     420.00   \n",
       "11868     GMC     Yukon  2015  premium unleaded (recommended)     420.00   \n",
       "\n",
       "       Engine Cylinders Transmission Type      Driven_Wheels  Number of Doors  \\\n",
       "87                 4.00            MANUAL  front wheel drive             2.00   \n",
       "88                 4.00            MANUAL  front wheel drive             2.00   \n",
       "91                 4.00            MANUAL  front wheel drive             2.00   \n",
       "92                 4.00            MANUAL  front wheel drive             2.00   \n",
       "93                 4.00            MANUAL  front wheel drive             2.00   \n",
       "...                 ...               ...                ...              ...   \n",
       "11794              6.00            MANUAL    all wheel drive             2.00   \n",
       "11809              4.00            MANUAL  front wheel drive             4.00   \n",
       "11810              4.00         AUTOMATIC  front wheel drive             4.00   \n",
       "11867              8.00         AUTOMATIC   rear wheel drive             4.00   \n",
       "11868              8.00         AUTOMATIC   four wheel drive             4.00   \n",
       "\n",
       "      Market Category Vehicle Size Vehicle Style  highway MPG  city mpg  \\\n",
       "87                NaN      Compact         Coupe           36        26   \n",
       "88                NaN      Compact         Coupe           36        26   \n",
       "91                NaN      Compact         Coupe           35        25   \n",
       "92                NaN      Compact         Coupe           35        25   \n",
       "93                NaN      Compact         Coupe           35        25   \n",
       "...               ...          ...           ...          ...       ...   \n",
       "11794             NaN      Compact         Coupe           23        16   \n",
       "11809             NaN      Compact         Sedan           39        30   \n",
       "11810             NaN      Compact         Sedan           40        32   \n",
       "11867             NaN        Large       4dr SUV           21        15   \n",
       "11868             NaN        Large       4dr SUV           21        14   \n",
       "\n",
       "       Popularity   MSRP  \n",
       "87           2009   2000  \n",
       "88           2009   2000  \n",
       "91           2009   2000  \n",
       "92           2009   2000  \n",
       "93           2009   2000  \n",
       "...           ...    ...  \n",
       "11794         640   2000  \n",
       "11809        2031  15950  \n",
       "11810        2031  17050  \n",
       "11867         549  64520  \n",
       "11868         549  67520  \n",
       "\n",
       "[3742 rows x 16 columns]"
      ]
     },
     "execution_count": 6,
     "metadata": {},
     "output_type": "execute_result"
    }
   ],
   "source": [
    "df[df['Market Category'].isna()]# this shows all the rows where market category has null values"
   ]
  },
  {
   "cell_type": "code",
   "execution_count": 7,
   "id": "4e693004",
   "metadata": {},
   "outputs": [
    {
     "data": {
      "text/html": [
       "<div>\n",
       "<style scoped>\n",
       "    .dataframe tbody tr th:only-of-type {\n",
       "        vertical-align: middle;\n",
       "    }\n",
       "\n",
       "    .dataframe tbody tr th {\n",
       "        vertical-align: top;\n",
       "    }\n",
       "\n",
       "    .dataframe thead th {\n",
       "        text-align: right;\n",
       "    }\n",
       "</style>\n",
       "<table border=\"1\" class=\"dataframe\">\n",
       "  <thead>\n",
       "    <tr style=\"text-align: right;\">\n",
       "      <th></th>\n",
       "      <th>Year</th>\n",
       "      <th>Engine HP</th>\n",
       "      <th>Engine Cylinders</th>\n",
       "      <th>Number of Doors</th>\n",
       "      <th>highway MPG</th>\n",
       "      <th>city mpg</th>\n",
       "      <th>Popularity</th>\n",
       "      <th>MSRP</th>\n",
       "    </tr>\n",
       "  </thead>\n",
       "  <tbody>\n",
       "    <tr>\n",
       "      <th>count</th>\n",
       "      <td>11914.00</td>\n",
       "      <td>11845.00</td>\n",
       "      <td>11884.00</td>\n",
       "      <td>11908.00</td>\n",
       "      <td>11914.00</td>\n",
       "      <td>11914.00</td>\n",
       "      <td>11914.00</td>\n",
       "      <td>11914.00</td>\n",
       "    </tr>\n",
       "    <tr>\n",
       "      <th>mean</th>\n",
       "      <td>2010.38</td>\n",
       "      <td>249.39</td>\n",
       "      <td>5.63</td>\n",
       "      <td>3.44</td>\n",
       "      <td>26.64</td>\n",
       "      <td>19.73</td>\n",
       "      <td>1554.91</td>\n",
       "      <td>40594.74</td>\n",
       "    </tr>\n",
       "    <tr>\n",
       "      <th>std</th>\n",
       "      <td>7.58</td>\n",
       "      <td>109.19</td>\n",
       "      <td>1.78</td>\n",
       "      <td>0.88</td>\n",
       "      <td>8.86</td>\n",
       "      <td>8.99</td>\n",
       "      <td>1441.86</td>\n",
       "      <td>60109.10</td>\n",
       "    </tr>\n",
       "    <tr>\n",
       "      <th>min</th>\n",
       "      <td>1990.00</td>\n",
       "      <td>55.00</td>\n",
       "      <td>0.00</td>\n",
       "      <td>2.00</td>\n",
       "      <td>12.00</td>\n",
       "      <td>7.00</td>\n",
       "      <td>2.00</td>\n",
       "      <td>2000.00</td>\n",
       "    </tr>\n",
       "    <tr>\n",
       "      <th>25%</th>\n",
       "      <td>2007.00</td>\n",
       "      <td>170.00</td>\n",
       "      <td>4.00</td>\n",
       "      <td>2.00</td>\n",
       "      <td>22.00</td>\n",
       "      <td>16.00</td>\n",
       "      <td>549.00</td>\n",
       "      <td>21000.00</td>\n",
       "    </tr>\n",
       "    <tr>\n",
       "      <th>50%</th>\n",
       "      <td>2015.00</td>\n",
       "      <td>227.00</td>\n",
       "      <td>6.00</td>\n",
       "      <td>4.00</td>\n",
       "      <td>26.00</td>\n",
       "      <td>18.00</td>\n",
       "      <td>1385.00</td>\n",
       "      <td>29995.00</td>\n",
       "    </tr>\n",
       "    <tr>\n",
       "      <th>75%</th>\n",
       "      <td>2016.00</td>\n",
       "      <td>300.00</td>\n",
       "      <td>6.00</td>\n",
       "      <td>4.00</td>\n",
       "      <td>30.00</td>\n",
       "      <td>22.00</td>\n",
       "      <td>2009.00</td>\n",
       "      <td>42231.25</td>\n",
       "    </tr>\n",
       "    <tr>\n",
       "      <th>max</th>\n",
       "      <td>2017.00</td>\n",
       "      <td>1001.00</td>\n",
       "      <td>16.00</td>\n",
       "      <td>4.00</td>\n",
       "      <td>354.00</td>\n",
       "      <td>137.00</td>\n",
       "      <td>5657.00</td>\n",
       "      <td>2065902.00</td>\n",
       "    </tr>\n",
       "  </tbody>\n",
       "</table>\n",
       "</div>"
      ],
      "text/plain": [
       "          Year  Engine HP  Engine Cylinders  Number of Doors  highway MPG  \\\n",
       "count 11914.00   11845.00          11884.00         11908.00     11914.00   \n",
       "mean   2010.38     249.39              5.63             3.44        26.64   \n",
       "std       7.58     109.19              1.78             0.88         8.86   \n",
       "min    1990.00      55.00              0.00             2.00        12.00   \n",
       "25%    2007.00     170.00              4.00             2.00        22.00   \n",
       "50%    2015.00     227.00              6.00             4.00        26.00   \n",
       "75%    2016.00     300.00              6.00             4.00        30.00   \n",
       "max    2017.00    1001.00             16.00             4.00       354.00   \n",
       "\n",
       "       city mpg  Popularity       MSRP  \n",
       "count  11914.00    11914.00   11914.00  \n",
       "mean      19.73     1554.91   40594.74  \n",
       "std        8.99     1441.86   60109.10  \n",
       "min        7.00        2.00    2000.00  \n",
       "25%       16.00      549.00   21000.00  \n",
       "50%       18.00     1385.00   29995.00  \n",
       "75%       22.00     2009.00   42231.25  \n",
       "max      137.00     5657.00 2065902.00  "
      ]
     },
     "execution_count": 7,
     "metadata": {},
     "output_type": "execute_result"
    }
   ],
   "source": [
    "# some of the statistical kpis for the loaded data\n",
    "df.describe()"
   ]
  },
  {
   "cell_type": "code",
   "execution_count": 8,
   "id": "0b1a338a",
   "metadata": {},
   "outputs": [
    {
     "data": {
      "text/plain": [
       "2000     1036\n",
       "29995      19\n",
       "25995      19\n",
       "20995      16\n",
       "27995      16\n",
       "         ... \n",
       "18855       1\n",
       "22575       1\n",
       "20050       1\n",
       "26965       1\n",
       "50920       1\n",
       "Name: MSRP, Length: 6049, dtype: int64"
      ]
     },
     "execution_count": 8,
     "metadata": {},
     "output_type": "execute_result"
    }
   ],
   "source": [
    "# value count of target variables\n",
    "df['MSRP'].value_counts()"
   ]
  },
  {
   "cell_type": "code",
   "execution_count": 9,
   "id": "b5b5b0b2",
   "metadata": {},
   "outputs": [
    {
     "name": "stdout",
     "output_type": "stream",
     "text": [
      "Number of records: 11914\n",
      "Number of records after dropping duplicates: 11914\n"
     ]
    }
   ],
   "source": [
    "print('Number of records:', len(df))\n",
    "df.drop_duplicates()\n",
    "print('Number of records after dropping duplicates:', len(df))"
   ]
  },
  {
   "cell_type": "markdown",
   "id": "31e2c27d",
   "metadata": {},
   "source": [
    "## There are no duplicates in the record."
   ]
  },
  {
   "cell_type": "markdown",
   "id": "9865c7b1",
   "metadata": {},
   "source": [
    "### 4.2 Fix the issue of Missing data\n",
    "Missing values will be highlighted in yellow.\n",
    "\n",
    "Resolve the missing values by:\n",
    "1. Fill missing values with default value/average value\n",
    "2. Drop column if it is not usable or if the number of missing values is very high"
   ]
  },
  {
   "cell_type": "markdown",
   "id": "dafec43e",
   "metadata": {},
   "source": [
    "# The function dataframe. isnull(). sum() returns the number of missing values in the data set."
   ]
  },
  {
   "cell_type": "code",
   "execution_count": 10,
   "id": "391e11c2",
   "metadata": {},
   "outputs": [
    {
     "data": {
      "text/plain": [
       "Make                    0\n",
       "Model                   0\n",
       "Year                    0\n",
       "Engine Fuel Type        3\n",
       "Engine HP              69\n",
       "Engine Cylinders       30\n",
       "Transmission Type       0\n",
       "Driven_Wheels           0\n",
       "Number of Doors         6\n",
       "Market Category      3742\n",
       "Vehicle Size            0\n",
       "Vehicle Style           0\n",
       "highway MPG             0\n",
       "city mpg                0\n",
       "Popularity              0\n",
       "MSRP                    0\n",
       "dtype: int64"
      ]
     },
     "execution_count": 10,
     "metadata": {},
     "output_type": "execute_result"
    }
   ],
   "source": [
    "df.isnull().sum()\n"
   ]
  },
  {
   "cell_type": "code",
   "execution_count": 11,
   "id": "50218ef3",
   "metadata": {},
   "outputs": [
    {
     "data": {
      "text/plain": [
       "<AxesSubplot:>"
      ]
     },
     "execution_count": 11,
     "metadata": {},
     "output_type": "execute_result"
    },
    {
     "data": {
      "image/png": "[encoded data removed]",
      "text/plain": [
       "<Figure size 432x288 with 1 Axes>"
      ]
     },
     "metadata": {},
     "output_type": "display_data"
    }
   ],
   "source": [
    "# check for null values\n",
    "sns.heatmap(df.isnull(),yticklabels=False,cbar=False,cmap='viridis')"
   ]
  },
  {
   "cell_type": "code",
   "execution_count": 12,
   "id": "36febbab",
   "metadata": {},
   "outputs": [],
   "source": [
    "df = df.drop('Market Category',axis=1)"
   ]
  },
  {
   "cell_type": "markdown",
   "id": "d82decef",
   "metadata": {},
   "source": [
    "\n",
    "\n",
    "### Dropped market category all together because it contains too many missing values"
   ]
  },
  {
   "cell_type": "code",
   "execution_count": 13,
   "id": "15c604c2",
   "metadata": {},
   "outputs": [
    {
     "data": {
      "text/plain": [
       "<AxesSubplot:>"
      ]
     },
     "execution_count": 13,
     "metadata": {},
     "output_type": "execute_result"
    },
    {
     "data": {
      "image/png": "[encoded data removed]",
      "text/plain": [
       "<Figure size 432x288 with 1 Axes>"
      ]
     },
     "metadata": {},
     "output_type": "display_data"
    }
   ],
   "source": [
    "sns.heatmap(df.isnull(),yticklabels=False,cbar=False,cmap='viridis')\n"
   ]
  },
  {
   "cell_type": "code",
   "execution_count": 14,
   "id": "b1510a97",
   "metadata": {},
   "outputs": [],
   "source": [
    "# Filling up the empty cells of Engine HP,Engine Fuel Type,MSRP,Engine Cylinders,Number of Doors  with 0\n",
    "df.fillna({'Engine HP':0},  inplace=True)\n",
    "df.fillna({'Engine Fuel Type':0},  inplace=True)\n",
    "df.fillna({'MSRP':0},  inplace=True)\n",
    "df.fillna({'Engine Cylinders':0},  inplace=True)\n",
    "df.fillna({'Number of Doors':0},  inplace=True)"
   ]
  },
  {
   "cell_type": "code",
   "execution_count": 15,
   "id": "120533b4",
   "metadata": {},
   "outputs": [
    {
     "data": {
      "text/plain": [
       "<AxesSubplot:>"
      ]
     },
     "execution_count": 15,
     "metadata": {},
     "output_type": "execute_result"
    },
    {
     "data": {
      "image/png": "[encoded data removed]",
      "text/plain": [
       "<Figure size 432x288 with 1 Axes>"
      ]
     },
     "metadata": {},
     "output_type": "display_data"
    }
   ],
   "source": [
    "sns.heatmap(df.isnull(),yticklabels=False,cbar=False,cmap='viridis')\n"
   ]
  },
  {
   "cell_type": "code",
   "execution_count": 16,
   "id": "92ca5bfa",
   "metadata": {},
   "outputs": [],
   "source": [
    "cat_vars = ['Make','Model','Engine Fuel Type',\n",
    "            'Transmission Type','Driven_Wheels','Vehicle Size','Vehicle Style']\n",
    "# Loop over categorical vars and encode each one\n",
    "for var in cat_vars:\n",
    "    df[var] = df[var].astype(\"category\")\n",
    "\n",
    "df = pd.get_dummies(df,columns=cat_vars, prefix_sep='_', drop_first=True)"
   ]
  },
  {
   "cell_type": "markdown",
   "id": "7414cf7e",
   "metadata": {},
   "source": [
    "## Though I don't understand the code fully. I believe that here the categorical variables are being converted into Binary Variables. The categorical variables are converted into multiple columns. I saw in the below code that I have to use 'Vehicle Style_Wagon' instead of 'Vehicle Style'. Also  I noticed that after a categorical variable is converted into numerical values, we cannot call the original variable."
   ]
  },
  {
   "cell_type": "markdown",
   "id": "ed0c419e",
   "metadata": {},
   "source": [
    "><h3>Quick look at correlations</h3>\n",
    "Now that we've cleaned up our numerical variables, let's take a quick look at the correlation matrix of our numerical variables to see if we can spot the most promising feature to move forward with"
   ]
  },
  {
   "cell_type": "markdown",
   "id": "5a68bd4d",
   "metadata": {},
   "source": [
    "## Heat Map interpretation: You can think of a heat map as a data-driven “paint by numbers” canvas overlaid on top of an image. In short, an image is divided into a grid and within each square, the heat map shows the relative intensity of values captured by your eye tracker by assigning each value a color representation.\n",
    "<img src='https://i.stack.imgur.com/Lh8tv.png' />\n",
    "\n",
    "## The correlation is directly proportional to the intensity of the colour depicting the intersection region.The section which are darker are more correlated as compared to the sections that are not. \n",
    "\n"
   ]
  },
  {
   "cell_type": "code",
   "execution_count": 17,
   "id": "753d8ec0",
   "metadata": {},
   "outputs": [
    {
     "data": {
      "image/png": "[encoded data removed]",
      "text/plain": [
       "<Figure size 1152x576 with 2 Axes>"
      ]
     },
     "metadata": {},
     "output_type": "display_data"
    }
   ],
   "source": [
    "cars_n = df.select_dtypes(include=['float64', 'int'])\n",
    "cars_n.head()\n",
    "corr = cars_n.corr()\n",
    "corr\n",
    "plt.figure(figsize=(16,8))\n",
    "\n",
    "# heatmap\n",
    "sns.heatmap(corr, cmap=\"YlGnBu\", annot=True)\n",
    "plt.show()"
   ]
  },
  {
   "cell_type": "markdown",
   "id": "d65ef36d",
   "metadata": {},
   "source": [
    "## After looking at the heatmap the attributes which are highly positive relation to MSRP is the Engine Hp, Engine Cylinders and Year everything else should be dropped Number of Doors, highway MPG city mpg Popularity.  **"
   ]
  },
  {
   "cell_type": "code",
   "execution_count": 18,
   "id": "54e7d857",
   "metadata": {},
   "outputs": [
    {
     "data": {
      "text/plain": [
       "<seaborn.axisgrid.FacetGrid at 0x1be04931c10>"
      ]
     },
     "execution_count": 18,
     "metadata": {},
     "output_type": "execute_result"
    },
    {
     "data": {
      "image/png": "[encoded data removed]",
      "text/plain": [
       "<Figure size 360x360 with 1 Axes>"
      ]
     },
     "metadata": {},
     "output_type": "display_data"
    }
   ],
   "source": [
    "sns.displot(df.MSRP)"
   ]
  },
  {
   "cell_type": "code",
   "execution_count": 19,
   "id": "4c38b294",
   "metadata": {},
   "outputs": [
    {
     "data": {
      "text/plain": [
       "<seaborn.axisgrid.FacetGrid at 0x1be053f5e80>"
      ]
     },
     "execution_count": 19,
     "metadata": {},
     "output_type": "execute_result"
    },
    {
     "data": {
      "image/png": "[encoded data removed]",
      "text/plain": [
       "<Figure size 360x360 with 1 Axes>"
      ]
     },
     "metadata": {},
     "output_type": "display_data"
    }
   ],
   "source": [
    "sns.displot(np.log1p(df.MSRP))"
   ]
  },
  {
   "cell_type": "code",
   "execution_count": null,
   "id": "91322467",
   "metadata": {},
   "outputs": [],
   "source": []
  },
  {
   "cell_type": "code",
   "execution_count": 20,
   "id": "800f6778",
   "metadata": {},
   "outputs": [],
   "source": [
    "def train_test_metrics(X_train,X_test,y_train,y_test,model):\n",
    "    names=['R2','Adj-R2','MAE','MAPE','SSE'] \n",
    "    \n",
    "    # Training Metrics\n",
    "    y_hat = model.predict(X_train)\n",
    "    \n",
    "    # Create R2\n",
    "    r2 = r2_score(y_train,y_hat).round(3)\n",
    "    \n",
    "    # Create adj_R2\n",
    "    adj_r2 = (1-(1-r2_score(y_train,y_hat))*(len(y_train)-1)/(len(y_train)-len(model.coef_)-1)).round(3)\n",
    "\n",
    "    \n",
    "    train_metrics = [r2, adj_r2,\n",
    "                     mean_absolute_error(y_train,y_hat).round(3),\n",
    "                     mean_absolute_percentage_error(y_train,y_hat).round(3)*100,\n",
    "                     (mean_squared_error(y_train,y_hat)*len(y_train)).round(3)\n",
    "                    ]\n",
    "    train_metrics = pd.DataFrame({'Train':train_metrics},index=names)\n",
    "    \n",
    "    # Testing Metrics\n",
    "    y_hat = model.predict(X_test)\n",
    "    test_metrics = [r2_score(y_test,y_hat).round(3),\n",
    "                    (1-(1-r2_score(y_test,y_hat))*(len(y_test)-1)/(len(y_test)-len(model.coef_)-1)).round(3),\n",
    "                    mean_absolute_error(y_test,y_hat).round(3),\n",
    "                    mean_absolute_percentage_error(y_test,y_hat).round(3)*100,\n",
    "                    (mean_squared_error(y_test,y_hat)*len(y_test)).round(3)\n",
    "                   ]\n",
    "    test_metrics = pd.DataFrame({'Test':test_metrics},index=names)\n",
    "    \n",
    "    all_metrics = train_metrics.merge(test_metrics,left_index=True,right_index=True)\n",
    "    print(all_metrics)"
   ]
  },
  {
   "cell_type": "code",
   "execution_count": 21,
   "id": "5c4d21a3",
   "metadata": {},
   "outputs": [],
   "source": [
    "predictors = ['Engine HP', 'Year','Engine Cylinders','Vehicle Style_Wagon',]\n",
    "\n",
    "target = ['MSRP']\n",
    "\n",
    "X = df[predictors]\n",
    "y = df[target]\n",
    "\n",
    "# Split data\n",
    "X_train,X_test,y_train,y_test = train_test_split(X,y, test_size=0.3,random_state=2)"
   ]
  },
  {
   "cell_type": "markdown",
   "id": "94579951",
   "metadata": {},
   "source": [
    "## Model 1 \n",
    "Regression model with one predictors: one numeric.\n",
    ">- Sticking with Engine Hp for the one numeric predictor"
   ]
  },
  {
   "cell_type": "code",
   "execution_count": 22,
   "id": "07d0d6eb",
   "metadata": {},
   "outputs": [
    {
     "name": "stdout",
     "output_type": "stream",
     "text": [
      "                   Train             Test\n",
      "R2                  0.43             0.41\n",
      "Adj-R2              0.43             0.41\n",
      "MAE             20598.02         20653.87\n",
      "MAPE              137.40           138.50\n",
      "SSE    16424388972954.05 8432152648741.41\n"
     ]
    }
   ],
   "source": [
    "simple_var = ['Engine HP']\n",
    "\n",
    "model = LinearRegression()\n",
    "model.fit(X_train[simple_var],y_train)\n",
    "\n",
    "# Display Output\n",
    "train_test_metrics(X_train[simple_var],X_test[simple_var],y_train,y_test,model)"
   ]
  },
  {
   "cell_type": "markdown",
   "id": "f5507ab7",
   "metadata": {},
   "source": [
    "## The MAPE for the training data comes out to be 137.40\n",
    "## The MAPE for the test data is 138.5\n",
    "## The delta for mape values is 138.5-137.40= 1.2. As our model performs well on train  data as well as test data,there is no evidence of overfitting.\n"
   ]
  },
  {
   "cell_type": "markdown",
   "id": "a635634d",
   "metadata": {},
   "source": [
    "## Model 2\n",
    "Regression model with TWO predictors: one numeric,one categorical:\n",
    ">- Sticking with Engine Hp for the one numeric predictor\n",
    ">- For categorical variable I'll go with 'Vehicle Style_Wagon'\n"
   ]
  },
  {
   "cell_type": "code",
   "execution_count": 23,
   "id": "ee9b5bc3",
   "metadata": {},
   "outputs": [
    {
     "name": "stdout",
     "output_type": "stream",
     "text": [
      "                   Train             Test\n",
      "R2                  0.43             0.41\n",
      "Adj-R2              0.43             0.41\n",
      "MAE             20591.24         20645.89\n",
      "MAPE              137.50           138.60\n",
      "SSE    16422304374844.62 8430626188952.47\n"
     ]
    }
   ],
   "source": [
    "simple_var = ['Engine HP','Vehicle Style_Wagon']\n",
    "\n",
    "model = LinearRegression()\n",
    "model.fit(X_train[simple_var],y_train)\n",
    "\n",
    "# Display Output\n",
    "train_test_metrics(X_train[simple_var],X_test[simple_var],y_train,y_test,model)"
   ]
  },
  {
   "cell_type": "markdown",
   "id": "971b6a0b",
   "metadata": {},
   "source": [
    "## Here we are Training  and testing a second regression model –this model includes ONE continuous numerical feature(Engine Horsepower) and ONE categorical variable(Vehicle Style_Wagon). Both of these features are Highly correlated with the our target MSRP are the r squared values are high."
   ]
  },
  {
   "cell_type": "markdown",
   "id": "3dabf26e",
   "metadata": {},
   "source": [
    "## Model 3\n",
    "Regression model with TWO predictors: one numeric,one categorical:\n",
    ">- Sticking with Engine Hp,Year,Engine Cylinders for the  numeric predictor\n",
    ">- For categorical variable I'll go with 'Vehicle Style_Wagon'\n"
   ]
  },
  {
   "cell_type": "code",
   "execution_count": 24,
   "id": "7e3567ec",
   "metadata": {},
   "outputs": [
    {
     "name": "stdout",
     "output_type": "stream",
     "text": [
      "                   Train             Test\n",
      "R2                  0.43             0.41\n",
      "Adj-R2              0.43             0.41\n",
      "MAE             20824.01         20899.18\n",
      "MAPE              141.80           143.30\n",
      "SSE    16342630126905.50 8415388697171.63\n"
     ]
    }
   ],
   "source": [
    "simple_var = ['Engine HP','Vehicle Style_Wagon','Year','Engine Cylinders']\n",
    "\n",
    "model = LinearRegression()\n",
    "model.fit(X_train[simple_var],y_train)\n",
    "\n",
    "# Display Output\n",
    "train_test_metrics(X_train[simple_var],X_test[simple_var],y_train,y_test,model)"
   ]
  },
  {
   "cell_type": "markdown",
   "id": "7873e8f7",
   "metadata": {},
   "source": [
    "## The MAPE for the training data comes out to be 141.80\n",
    "## The MAPE for the test data is 143.30\n",
    "## The delta for mape values is 143.30-141.80= 1.5.As the Mape values are  As our model performs well on train  data as well as test data,there is no evidence of overfitting.\n"
   ]
  },
  {
   "cell_type": "markdown",
   "id": "64585eca",
   "metadata": {},
   "source": [
    "## Conclusion  "
   ]
  },
  {
   "cell_type": "markdown",
   "id": "8313e94d",
   "metadata": {},
   "source": [
    "\n",
    "<br>Absolutely not satisfied with my model's performance as any MAPE value above 25% is not considered good for prediction.\n",
    "The mape values in my model are coming above 100% which is horrible in terms of prediction.</br>\n",
    "<br>I did not transfrom into logarithm, may be thats why the MAPE is so high.</br>"
   ]
  },
  {
   "cell_type": "markdown",
   "id": "2ee0cb1a",
   "metadata": {},
   "source": [
    "## What would you do differently if you could?\n",
    "</br> I would want to do a better feature selection Feature Selection of the best subset of attributes which better explains the relationship of independent variables with target variable.</br>\n",
    "</br> I Would want to do a better domain research to increase my insights</br>\n",
    "<br>I would want to do a better Visualization as it helps to visualize the relationship between variables, which makes variable selection process easier.</br>\n"
   ]
  },
  {
   "cell_type": "markdown",
   "id": "b26cdba2",
   "metadata": {},
   "source": [
    "## Based on your findings – what would you want to communicate to business leadership in this industry?  \n",
    "As I performmed the analysis, I understood that engine horsepower is a great predictor variable that is the MSRP varies directly in relationship to the engine Hp. I would want to communicate to business leadership that people want to buy cars which have hp in the lower segment as after a certain threshold hp of about 600 the price increases drastically. For Example some car having 550 hp will cost about 30K but a car having 650 hp engine will be around 200k. Not sure if I am totally correct.\n",
    " \n",
    "\n"
   ]
  },
  {
   "cell_type": "markdown",
   "id": "7e7bd520",
   "metadata": {},
   "source": [
    "## Things that I understood from this Problem set\n",
    "\n",
    "Linear Regression:\n",
    "<br>Linear regression analysis is used to predict the value of a target variable based on the value of another variable. The variable you want to predict is called the dependent variable.This form of analysis estimates the coefficients of the linear equation, involving one or more independent variables that best predict the value of the dependent variable.</br>\n",
    "Overfitting:\n",
    "<br> Overfitting is a modeling error in statistics that occurs when a function is too closely aligned to a limited set of data points. The thing i learnt on overfitting is that it our model performs well on training data but it does not perform well on test data.</br>\n",
    "R squared:\n",
    "<br> It represents the proportion of the variance for a dependent variable that's explained by an independent variable.</br>\n",
    "MAPE(Mean absolute percentage error):\n",
    "<br> It measures accuracy of a prediction system. It measures this accuracy as a percentage, and can be calculated as the average absolute percent error for each time period minus actual values divided by actual values. \n",
    "</br>\n"
   ]
  },
  {
   "cell_type": "code",
   "execution_count": null,
   "id": "539cc36b",
   "metadata": {},
   "outputs": [],
   "source": []
  }
 ],
 "metadata": {
  "kernelspec": {
   "display_name": "Python 3 (ipykernel)",
   "language": "python",
   "name": "python3"
  },
  "language_info": {
   "codemirror_mode": {
    "name": "ipython",
    "version": 3
   },
   "file_extension": ".py",
   "mimetype": "text/x-python",
   "name": "python",
   "nbconvert_exporter": "python",
   "pygments_lexer": "ipython3",
   "version": "3.9.12"
  }
 },
 "nbformat": 4,
 "nbformat_minor": 5
}
